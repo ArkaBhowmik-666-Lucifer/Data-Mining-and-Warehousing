{
  "cells": [
    {
      "cell_type": "markdown",
      "metadata": {
        "id": "view-in-github",
        "colab_type": "text"
      },
      "source": [
        "<a href=\"https://colab.research.google.com/github/ArkaBhowmik-666-Lucifer/Data-Mining-and-Warehousing/blob/main/Deployement.ipynb\" target=\"_parent\"><img src=\"https://colab.research.google.com/assets/colab-badge.svg\" alt=\"Open In Colab\"/></a>"
      ]
    },
    {
      "cell_type": "code",
      "execution_count": 2,
      "metadata": {
        "colab": {
          "base_uri": "https://localhost:8080/"
        },
        "id": "R1w0GFzAVeBe",
        "outputId": "529f7b83-3734-4e8c-d7a2-e402e79c9059"
      },
      "outputs": [
        {
          "output_type": "stream",
          "name": "stdout",
          "text": [
            "Looking in indexes: https://pypi.org/simple, https://us-python.pkg.dev/colab-wheels/public/simple/\n",
            "Collecting flask-ngrok\n",
            "  Downloading flask_ngrok-0.0.25-py3-none-any.whl (3.1 kB)\n",
            "Requirement already satisfied: Flask>=0.8 in /usr/local/lib/python3.7/dist-packages (from flask-ngrok) (1.1.4)\n",
            "Requirement already satisfied: requests in /usr/local/lib/python3.7/dist-packages (from flask-ngrok) (2.23.0)\n",
            "Requirement already satisfied: Jinja2<3.0,>=2.10.1 in /usr/local/lib/python3.7/dist-packages (from Flask>=0.8->flask-ngrok) (2.11.3)\n",
            "Requirement already satisfied: Werkzeug<2.0,>=0.15 in /usr/local/lib/python3.7/dist-packages (from Flask>=0.8->flask-ngrok) (1.0.1)\n",
            "Requirement already satisfied: itsdangerous<2.0,>=0.24 in /usr/local/lib/python3.7/dist-packages (from Flask>=0.8->flask-ngrok) (1.1.0)\n",
            "Requirement already satisfied: click<8.0,>=5.1 in /usr/local/lib/python3.7/dist-packages (from Flask>=0.8->flask-ngrok) (7.1.2)\n",
            "Requirement already satisfied: MarkupSafe>=0.23 in /usr/local/lib/python3.7/dist-packages (from Jinja2<3.0,>=2.10.1->Flask>=0.8->flask-ngrok) (2.0.1)\n",
            "Requirement already satisfied: urllib3!=1.25.0,!=1.25.1,<1.26,>=1.21.1 in /usr/local/lib/python3.7/dist-packages (from requests->flask-ngrok) (1.24.3)\n",
            "Requirement already satisfied: certifi>=2017.4.17 in /usr/local/lib/python3.7/dist-packages (from requests->flask-ngrok) (2022.5.18.1)\n",
            "Requirement already satisfied: chardet<4,>=3.0.2 in /usr/local/lib/python3.7/dist-packages (from requests->flask-ngrok) (3.0.4)\n",
            "Requirement already satisfied: idna<3,>=2.5 in /usr/local/lib/python3.7/dist-packages (from requests->flask-ngrok) (2.10)\n",
            "Installing collected packages: flask-ngrok\n",
            "Successfully installed flask-ngrok-0.0.25\n"
          ]
        }
      ],
      "source": [
        "!pip install flask-ngrok"
      ]
    },
    {
      "cell_type": "code",
      "execution_count": 3,
      "metadata": {
        "colab": {
          "base_uri": "https://localhost:8080/"
        },
        "id": "WzURJAV1VktM",
        "outputId": "08b6873e-409f-4c99-da6b-a4b6787d1bcb"
      },
      "outputs": [
        {
          "output_type": "stream",
          "name": "stdout",
          "text": [
            "Looking in indexes: https://pypi.org/simple, https://us-python.pkg.dev/colab-wheels/public/simple/\n",
            "Collecting config\n",
            "  Downloading config-0.5.1-py2.py3-none-any.whl (20 kB)\n",
            "Installing collected packages: config\n",
            "Successfully installed config-0.5.1\n"
          ]
        }
      ],
      "source": [
        "!pip install config"
      ]
    },
    {
      "cell_type": "code",
      "execution_count": 4,
      "metadata": {
        "id": "tJkcSfX3VniR"
      },
      "outputs": [],
      "source": [
        "from flask_ngrok import run_with_ngrok\n",
        "from flask import Flask, render_template, request, Markup\n",
        "import pickle\n",
        "import numpy as np\n",
        "import pandas as pd\n",
        "import requests\n",
        "import config"
      ]
    },
    {
      "cell_type": "markdown",
      "metadata": {
        "id": "8EhBTrrGWOf9"
      },
      "source": [
        "Creation of app Using Flask"
      ]
    },
    {
      "cell_type": "code",
      "execution_count": 6,
      "metadata": {
        "colab": {
          "base_uri": "https://localhost:8080/"
        },
        "id": "NeaTkni2WOKW",
        "outputId": "91e77691-4dc6-4002-ea75-724d39efc297"
      },
      "outputs": [
        {
          "output_type": "stream",
          "name": "stdout",
          "text": [
            " * Serving Flask app \"__main__\" (lazy loading)\n",
            " * Environment: production\n",
            "\u001b[31m   WARNING: This is a development server. Do not use it in a production deployment.\u001b[0m\n",
            "\u001b[2m   Use a production WSGI server instead.\u001b[0m\n",
            " * Debug mode: off\n"
          ]
        },
        {
          "output_type": "stream",
          "name": "stderr",
          "text": [
            " * Running on http://127.0.0.1:5000/ (Press CTRL+C to quit)\n"
          ]
        }
      ],
      "source": [
        "#create flask app\n",
        "app=Flask(__name__)\n",
        "model=pickle.load(open('/content/drive/MyDrive/4th_Year_Grp_Project/m_classifier.pkl','rb'))\n",
        "# Custom functions for calculations\n",
        "def weather_fetch(city_name):\n",
        "    \"\"\"\n",
        "    Fetch and returns the temperature and humidity of a city\n",
        "    :params: city_name\n",
        "    :return: temperature, humidity\n",
        "    \"\"\"\n",
        "    api_key=config.weather_api_key\n",
        "    base_url = \"http://api.openweathermap.org/data/2.5/weather?\"\n",
        "    complete_url = base_url + \"appid=\" + api_key + \"&q=\" + city_name\n",
        "    response = requests.get(complete_url)\n",
        "    x = response.json()\n",
        "    if x[\"cod\"] != \"404\":\n",
        "        y = x[\"main\"]\n",
        "        temperature = round((y[\"temp\"] - 273.15), 2)\n",
        "        humidity = y[\"humidity\"]\n",
        "        return temperature, humidity\n",
        "    else:\n",
        "        return None\n",
        "# ------------------------------------ FLASK APP -------------------------------------------------\n",
        "# render home page\n",
        "@ app.route('/')\n",
        "def home():\n",
        "    title = 'StrawHats - Home'\n",
        "    return render_template('/content/drive/MyDrive/4th_Year_Grp_Project/templates/Index.html', title=title)\n",
        "# render crop recommendation form page\n",
        "@ app.route('/crop-recommend')\n",
        "def crop_recommend():\n",
        "    title = 'StrawHats - Crop Recommendation'\n",
        "    return render_template('/content/drive/MyDrive/4th_Year_Grp_Project/templates/Crop.html', title=title)\n",
        "# Render crop recommendation result page\n",
        "@ app.route('/crop-predict', methods=['POST'])\n",
        "def crop_prediction():\n",
        "    title = 'StrawHats - Crop Recommendation'\n",
        "    if request.method == 'POST':\n",
        "        ph = float(request.form['ph'])\n",
        "        rainfall = float(request.form['rainfall'])\n",
        "        # state = request.form.get(\"stt\")\n",
        "        city = request.form.get(\"city\")\n",
        "        if weather_fetch(city) != None:\n",
        "            temperature, humidity = weather_fetch(city)\n",
        "            data = np.array([[temperature, humidity, ph, rainfall]])\n",
        "            prediction = model.predict(data)\n",
        "            return render_template('/content/drive/MyDrive/4th_Year_Grp_Project/templates/Crop result.html', prediction=final_prediction, title=title)\n",
        "        else:\n",
        "            return render_template('/content/drive/MyDrive/4th_Year_Grp_Project/templates/Try_again.html', title=title)\n",
        "app.run()"
      ]
    }
  ],
  "metadata": {
    "colab": {
      "collapsed_sections": [],
      "name": "Deployement.ipynb",
      "provenance": [],
      "mount_file_id": "1HAyN1fo2bdalzBRwlR0N0ZMnQLZbBuYe",
      "authorship_tag": "ABX9TyOdhj8lsz4AAv85ikWC/gNi",
      "include_colab_link": true
    },
    "kernelspec": {
      "display_name": "Python 3",
      "name": "python3"
    },
    "language_info": {
      "name": "python"
    }
  },
  "nbformat": 4,
  "nbformat_minor": 0
}