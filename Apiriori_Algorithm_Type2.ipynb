{
  "nbformat": 4,
  "nbformat_minor": 0,
  "metadata": {
    "colab": {
      "name": "Apiriori_Algorithm_Type2.ipynb",
      "provenance": [],
      "mount_file_id": "1fUnDikW5HoJtLCFjn500X2gR8xbdSexB",
      "authorship_tag": "ABX9TyPuQGRk5E0oZHKeJls77GuA",
      "include_colab_link": true
    },
    "kernelspec": {
      "name": "python3",
      "display_name": "Python 3"
    },
    "language_info": {
      "name": "python"
    }
  },
  "cells": [
    {
      "cell_type": "markdown",
      "metadata": {
        "id": "view-in-github",
        "colab_type": "text"
      },
      "source": [
        "<a href=\"https://colab.research.google.com/github/ArkaBhowmik-666-Lucifer/Data-Mining-and-Warehousing/blob/main/Apiriori_Algorithm_Type2.ipynb\" target=\"_parent\"><img src=\"https://colab.research.google.com/assets/colab-badge.svg\" alt=\"Open In Colab\"/></a>"
      ]
    },
    {
      "cell_type": "code",
      "execution_count": 1,
      "metadata": {
        "colab": {
          "base_uri": "https://localhost:8080/"
        },
        "id": "_RObWDIlQrf8",
        "outputId": "027427e9-6ffb-4277-ea5c-38d755fcf9ae"
      },
      "outputs": [
        {
          "output_type": "stream",
          "name": "stdout",
          "text": [
            "Collecting apyori\n",
            "  Downloading apyori-1.1.2.tar.gz (8.6 kB)\n",
            "Building wheels for collected packages: apyori\n",
            "  Building wheel for apyori (setup.py) ... \u001b[?25l\u001b[?25hdone\n",
            "  Created wheel for apyori: filename=apyori-1.1.2-py3-none-any.whl size=5974 sha256=cd0edf7056c59f949d61754adcff2b344c7655aa567067a7dc21b2fa4a99d7c7\n",
            "  Stored in directory: /root/.cache/pip/wheels/cb/f6/e1/57973c631d27efd1a2f375bd6a83b2a616c4021f24aab84080\n",
            "Successfully built apyori\n",
            "Installing collected packages: apyori\n",
            "Successfully installed apyori-1.1.2\n"
          ]
        }
      ],
      "source": [
        "pip install apyori"
      ]
    },
    {
      "cell_type": "code",
      "source": [
        "import pandas as pd\n",
        "import numpy as np\n",
        "from apyori import apriori"
      ],
      "metadata": {
        "id": "DJUg9u99QvRY"
      },
      "execution_count": 2,
      "outputs": []
    },
    {
      "cell_type": "code",
      "source": [
        "medical_data=pd.read_csv(\"/content/drive/MyDrive/DWDM/Dataset_2.csv\")"
      ],
      "metadata": {
        "id": "W9J4xbZfQwxL"
      },
      "execution_count": 3,
      "outputs": []
    },
    {
      "cell_type": "code",
      "source": [
        "medical_data"
      ],
      "metadata": {
        "colab": {
          "base_uri": "https://localhost:8080/",
          "height": 175
        },
        "id": "Sa_tETGYQ_il",
        "outputId": "f638ad52-870c-41c9-f08a-10e1f1678809"
      },
      "execution_count": 4,
      "outputs": [
        {
          "output_type": "execute_result",
          "data": {
            "text/plain": [
              "   Fever  Throat Pain  Cold Unnamed: 3 Unnamed: 4 Unnamed: 5 Unnamed: 6\n",
              "0  Fever          NaN   NaN   Headache        NaN        NaN        NaN\n",
              "1  Fever          NaN  Cold        NaN  Dizziness        NaN        NaN\n",
              "2    NaN          NaN  Cold        NaN  Dizziness  Pneumonia        NaN\n",
              "3    NaN          NaN   NaN        NaN        NaN  Pneumonia  Diarrhoea"
            ],
            "text/html": [
              "\n",
              "  <div id=\"df-cb0b507c-aa36-4db5-9af4-c16903ad5ca2\">\n",
              "    <div class=\"colab-df-container\">\n",
              "      <div>\n",
              "<style scoped>\n",
              "    .dataframe tbody tr th:only-of-type {\n",
              "        vertical-align: middle;\n",
              "    }\n",
              "\n",
              "    .dataframe tbody tr th {\n",
              "        vertical-align: top;\n",
              "    }\n",
              "\n",
              "    .dataframe thead th {\n",
              "        text-align: right;\n",
              "    }\n",
              "</style>\n",
              "<table border=\"1\" class=\"dataframe\">\n",
              "  <thead>\n",
              "    <tr style=\"text-align: right;\">\n",
              "      <th></th>\n",
              "      <th>Fever</th>\n",
              "      <th>Throat Pain</th>\n",
              "      <th>Cold</th>\n",
              "      <th>Unnamed: 3</th>\n",
              "      <th>Unnamed: 4</th>\n",
              "      <th>Unnamed: 5</th>\n",
              "      <th>Unnamed: 6</th>\n",
              "    </tr>\n",
              "  </thead>\n",
              "  <tbody>\n",
              "    <tr>\n",
              "      <th>0</th>\n",
              "      <td>Fever</td>\n",
              "      <td>NaN</td>\n",
              "      <td>NaN</td>\n",
              "      <td>Headache</td>\n",
              "      <td>NaN</td>\n",
              "      <td>NaN</td>\n",
              "      <td>NaN</td>\n",
              "    </tr>\n",
              "    <tr>\n",
              "      <th>1</th>\n",
              "      <td>Fever</td>\n",
              "      <td>NaN</td>\n",
              "      <td>Cold</td>\n",
              "      <td>NaN</td>\n",
              "      <td>Dizziness</td>\n",
              "      <td>NaN</td>\n",
              "      <td>NaN</td>\n",
              "    </tr>\n",
              "    <tr>\n",
              "      <th>2</th>\n",
              "      <td>NaN</td>\n",
              "      <td>NaN</td>\n",
              "      <td>Cold</td>\n",
              "      <td>NaN</td>\n",
              "      <td>Dizziness</td>\n",
              "      <td>Pneumonia</td>\n",
              "      <td>NaN</td>\n",
              "    </tr>\n",
              "    <tr>\n",
              "      <th>3</th>\n",
              "      <td>NaN</td>\n",
              "      <td>NaN</td>\n",
              "      <td>NaN</td>\n",
              "      <td>NaN</td>\n",
              "      <td>NaN</td>\n",
              "      <td>Pneumonia</td>\n",
              "      <td>Diarrhoea</td>\n",
              "    </tr>\n",
              "  </tbody>\n",
              "</table>\n",
              "</div>\n",
              "      <button class=\"colab-df-convert\" onclick=\"convertToInteractive('df-cb0b507c-aa36-4db5-9af4-c16903ad5ca2')\"\n",
              "              title=\"Convert this dataframe to an interactive table.\"\n",
              "              style=\"display:none;\">\n",
              "        \n",
              "  <svg xmlns=\"http://www.w3.org/2000/svg\" height=\"24px\"viewBox=\"0 0 24 24\"\n",
              "       width=\"24px\">\n",
              "    <path d=\"M0 0h24v24H0V0z\" fill=\"none\"/>\n",
              "    <path d=\"M18.56 5.44l.94 2.06.94-2.06 2.06-.94-2.06-.94-.94-2.06-.94 2.06-2.06.94zm-11 1L8.5 8.5l.94-2.06 2.06-.94-2.06-.94L8.5 2.5l-.94 2.06-2.06.94zm10 10l.94 2.06.94-2.06 2.06-.94-2.06-.94-.94-2.06-.94 2.06-2.06.94z\"/><path d=\"M17.41 7.96l-1.37-1.37c-.4-.4-.92-.59-1.43-.59-.52 0-1.04.2-1.43.59L10.3 9.45l-7.72 7.72c-.78.78-.78 2.05 0 2.83L4 21.41c.39.39.9.59 1.41.59.51 0 1.02-.2 1.41-.59l7.78-7.78 2.81-2.81c.8-.78.8-2.07 0-2.86zM5.41 20L4 18.59l7.72-7.72 1.47 1.35L5.41 20z\"/>\n",
              "  </svg>\n",
              "      </button>\n",
              "      \n",
              "  <style>\n",
              "    .colab-df-container {\n",
              "      display:flex;\n",
              "      flex-wrap:wrap;\n",
              "      gap: 12px;\n",
              "    }\n",
              "\n",
              "    .colab-df-convert {\n",
              "      background-color: #E8F0FE;\n",
              "      border: none;\n",
              "      border-radius: 50%;\n",
              "      cursor: pointer;\n",
              "      display: none;\n",
              "      fill: #1967D2;\n",
              "      height: 32px;\n",
              "      padding: 0 0 0 0;\n",
              "      width: 32px;\n",
              "    }\n",
              "\n",
              "    .colab-df-convert:hover {\n",
              "      background-color: #E2EBFA;\n",
              "      box-shadow: 0px 1px 2px rgba(60, 64, 67, 0.3), 0px 1px 3px 1px rgba(60, 64, 67, 0.15);\n",
              "      fill: #174EA6;\n",
              "    }\n",
              "\n",
              "    [theme=dark] .colab-df-convert {\n",
              "      background-color: #3B4455;\n",
              "      fill: #D2E3FC;\n",
              "    }\n",
              "\n",
              "    [theme=dark] .colab-df-convert:hover {\n",
              "      background-color: #434B5C;\n",
              "      box-shadow: 0px 1px 3px 1px rgba(0, 0, 0, 0.15);\n",
              "      filter: drop-shadow(0px 1px 2px rgba(0, 0, 0, 0.3));\n",
              "      fill: #FFFFFF;\n",
              "    }\n",
              "  </style>\n",
              "\n",
              "      <script>\n",
              "        const buttonEl =\n",
              "          document.querySelector('#df-cb0b507c-aa36-4db5-9af4-c16903ad5ca2 button.colab-df-convert');\n",
              "        buttonEl.style.display =\n",
              "          google.colab.kernel.accessAllowed ? 'block' : 'none';\n",
              "\n",
              "        async function convertToInteractive(key) {\n",
              "          const element = document.querySelector('#df-cb0b507c-aa36-4db5-9af4-c16903ad5ca2');\n",
              "          const dataTable =\n",
              "            await google.colab.kernel.invokeFunction('convertToInteractive',\n",
              "                                                     [key], {});\n",
              "          if (!dataTable) return;\n",
              "\n",
              "          const docLinkHtml = 'Like what you see? Visit the ' +\n",
              "            '<a target=\"_blank\" href=https://colab.research.google.com/notebooks/data_table.ipynb>data table notebook</a>'\n",
              "            + ' to learn more about interactive tables.';\n",
              "          element.innerHTML = '';\n",
              "          dataTable['output_type'] = 'display_data';\n",
              "          await google.colab.output.renderOutput(dataTable, element);\n",
              "          const docLink = document.createElement('div');\n",
              "          docLink.innerHTML = docLinkHtml;\n",
              "          element.appendChild(docLink);\n",
              "        }\n",
              "      </script>\n",
              "    </div>\n",
              "  </div>\n",
              "  "
            ]
          },
          "metadata": {},
          "execution_count": 4
        }
      ]
    },
    {
      "cell_type": "code",
      "source": [
        "medical_data.head()"
      ],
      "metadata": {
        "colab": {
          "base_uri": "https://localhost:8080/",
          "height": 175
        },
        "id": "JDwslN_RRCh7",
        "outputId": "911d0dc3-ba06-40f8-e726-6199b5f1cfb1"
      },
      "execution_count": 5,
      "outputs": [
        {
          "output_type": "execute_result",
          "data": {
            "text/plain": [
              "   Fever  Throat Pain  Cold Unnamed: 3 Unnamed: 4 Unnamed: 5 Unnamed: 6\n",
              "0  Fever          NaN   NaN   Headache        NaN        NaN        NaN\n",
              "1  Fever          NaN  Cold        NaN  Dizziness        NaN        NaN\n",
              "2    NaN          NaN  Cold        NaN  Dizziness  Pneumonia        NaN\n",
              "3    NaN          NaN   NaN        NaN        NaN  Pneumonia  Diarrhoea"
            ],
            "text/html": [
              "\n",
              "  <div id=\"df-d637b663-ad39-4b2e-ace0-13da4864a22e\">\n",
              "    <div class=\"colab-df-container\">\n",
              "      <div>\n",
              "<style scoped>\n",
              "    .dataframe tbody tr th:only-of-type {\n",
              "        vertical-align: middle;\n",
              "    }\n",
              "\n",
              "    .dataframe tbody tr th {\n",
              "        vertical-align: top;\n",
              "    }\n",
              "\n",
              "    .dataframe thead th {\n",
              "        text-align: right;\n",
              "    }\n",
              "</style>\n",
              "<table border=\"1\" class=\"dataframe\">\n",
              "  <thead>\n",
              "    <tr style=\"text-align: right;\">\n",
              "      <th></th>\n",
              "      <th>Fever</th>\n",
              "      <th>Throat Pain</th>\n",
              "      <th>Cold</th>\n",
              "      <th>Unnamed: 3</th>\n",
              "      <th>Unnamed: 4</th>\n",
              "      <th>Unnamed: 5</th>\n",
              "      <th>Unnamed: 6</th>\n",
              "    </tr>\n",
              "  </thead>\n",
              "  <tbody>\n",
              "    <tr>\n",
              "      <th>0</th>\n",
              "      <td>Fever</td>\n",
              "      <td>NaN</td>\n",
              "      <td>NaN</td>\n",
              "      <td>Headache</td>\n",
              "      <td>NaN</td>\n",
              "      <td>NaN</td>\n",
              "      <td>NaN</td>\n",
              "    </tr>\n",
              "    <tr>\n",
              "      <th>1</th>\n",
              "      <td>Fever</td>\n",
              "      <td>NaN</td>\n",
              "      <td>Cold</td>\n",
              "      <td>NaN</td>\n",
              "      <td>Dizziness</td>\n",
              "      <td>NaN</td>\n",
              "      <td>NaN</td>\n",
              "    </tr>\n",
              "    <tr>\n",
              "      <th>2</th>\n",
              "      <td>NaN</td>\n",
              "      <td>NaN</td>\n",
              "      <td>Cold</td>\n",
              "      <td>NaN</td>\n",
              "      <td>Dizziness</td>\n",
              "      <td>Pneumonia</td>\n",
              "      <td>NaN</td>\n",
              "    </tr>\n",
              "    <tr>\n",
              "      <th>3</th>\n",
              "      <td>NaN</td>\n",
              "      <td>NaN</td>\n",
              "      <td>NaN</td>\n",
              "      <td>NaN</td>\n",
              "      <td>NaN</td>\n",
              "      <td>Pneumonia</td>\n",
              "      <td>Diarrhoea</td>\n",
              "    </tr>\n",
              "  </tbody>\n",
              "</table>\n",
              "</div>\n",
              "      <button class=\"colab-df-convert\" onclick=\"convertToInteractive('df-d637b663-ad39-4b2e-ace0-13da4864a22e')\"\n",
              "              title=\"Convert this dataframe to an interactive table.\"\n",
              "              style=\"display:none;\">\n",
              "        \n",
              "  <svg xmlns=\"http://www.w3.org/2000/svg\" height=\"24px\"viewBox=\"0 0 24 24\"\n",
              "       width=\"24px\">\n",
              "    <path d=\"M0 0h24v24H0V0z\" fill=\"none\"/>\n",
              "    <path d=\"M18.56 5.44l.94 2.06.94-2.06 2.06-.94-2.06-.94-.94-2.06-.94 2.06-2.06.94zm-11 1L8.5 8.5l.94-2.06 2.06-.94-2.06-.94L8.5 2.5l-.94 2.06-2.06.94zm10 10l.94 2.06.94-2.06 2.06-.94-2.06-.94-.94-2.06-.94 2.06-2.06.94z\"/><path d=\"M17.41 7.96l-1.37-1.37c-.4-.4-.92-.59-1.43-.59-.52 0-1.04.2-1.43.59L10.3 9.45l-7.72 7.72c-.78.78-.78 2.05 0 2.83L4 21.41c.39.39.9.59 1.41.59.51 0 1.02-.2 1.41-.59l7.78-7.78 2.81-2.81c.8-.78.8-2.07 0-2.86zM5.41 20L4 18.59l7.72-7.72 1.47 1.35L5.41 20z\"/>\n",
              "  </svg>\n",
              "      </button>\n",
              "      \n",
              "  <style>\n",
              "    .colab-df-container {\n",
              "      display:flex;\n",
              "      flex-wrap:wrap;\n",
              "      gap: 12px;\n",
              "    }\n",
              "\n",
              "    .colab-df-convert {\n",
              "      background-color: #E8F0FE;\n",
              "      border: none;\n",
              "      border-radius: 50%;\n",
              "      cursor: pointer;\n",
              "      display: none;\n",
              "      fill: #1967D2;\n",
              "      height: 32px;\n",
              "      padding: 0 0 0 0;\n",
              "      width: 32px;\n",
              "    }\n",
              "\n",
              "    .colab-df-convert:hover {\n",
              "      background-color: #E2EBFA;\n",
              "      box-shadow: 0px 1px 2px rgba(60, 64, 67, 0.3), 0px 1px 3px 1px rgba(60, 64, 67, 0.15);\n",
              "      fill: #174EA6;\n",
              "    }\n",
              "\n",
              "    [theme=dark] .colab-df-convert {\n",
              "      background-color: #3B4455;\n",
              "      fill: #D2E3FC;\n",
              "    }\n",
              "\n",
              "    [theme=dark] .colab-df-convert:hover {\n",
              "      background-color: #434B5C;\n",
              "      box-shadow: 0px 1px 3px 1px rgba(0, 0, 0, 0.15);\n",
              "      filter: drop-shadow(0px 1px 2px rgba(0, 0, 0, 0.3));\n",
              "      fill: #FFFFFF;\n",
              "    }\n",
              "  </style>\n",
              "\n",
              "      <script>\n",
              "        const buttonEl =\n",
              "          document.querySelector('#df-d637b663-ad39-4b2e-ace0-13da4864a22e button.colab-df-convert');\n",
              "        buttonEl.style.display =\n",
              "          google.colab.kernel.accessAllowed ? 'block' : 'none';\n",
              "\n",
              "        async function convertToInteractive(key) {\n",
              "          const element = document.querySelector('#df-d637b663-ad39-4b2e-ace0-13da4864a22e');\n",
              "          const dataTable =\n",
              "            await google.colab.kernel.invokeFunction('convertToInteractive',\n",
              "                                                     [key], {});\n",
              "          if (!dataTable) return;\n",
              "\n",
              "          const docLinkHtml = 'Like what you see? Visit the ' +\n",
              "            '<a target=\"_blank\" href=https://colab.research.google.com/notebooks/data_table.ipynb>data table notebook</a>'\n",
              "            + ' to learn more about interactive tables.';\n",
              "          element.innerHTML = '';\n",
              "          dataTable['output_type'] = 'display_data';\n",
              "          await google.colab.output.renderOutput(dataTable, element);\n",
              "          const docLink = document.createElement('div');\n",
              "          docLink.innerHTML = docLinkHtml;\n",
              "          element.appendChild(docLink);\n",
              "        }\n",
              "      </script>\n",
              "    </div>\n",
              "  </div>\n",
              "  "
            ]
          },
          "metadata": {},
          "execution_count": 5
        }
      ]
    },
    {
      "cell_type": "code",
      "source": [
        "medical_data.shape"
      ],
      "metadata": {
        "colab": {
          "base_uri": "https://localhost:8080/"
        },
        "id": "WBQSLjIRRIAT",
        "outputId": "8cfc344b-af75-4fdd-ad07-058952ad9c16"
      },
      "execution_count": 6,
      "outputs": [
        {
          "output_type": "execute_result",
          "data": {
            "text/plain": [
              "(4, 7)"
            ]
          },
          "metadata": {},
          "execution_count": 6
        }
      ]
    },
    {
      "cell_type": "code",
      "source": [
        "record=[]\n",
        "for i in range(0,4):\n",
        "  record.append([str(medical_data.values[i,j])for j in range(0,7)])"
      ],
      "metadata": {
        "id": "4YbN78STRKnG"
      },
      "execution_count": 7,
      "outputs": []
    },
    {
      "cell_type": "code",
      "source": [
        "association_rules=apriori(record,min_support=0.20,min_confidence=0.50,min_lift=1.2,min_length=2)\n",
        "association_results=list(association_rules)"
      ],
      "metadata": {
        "id": "oe79OGTGRn8k"
      },
      "execution_count": 14,
      "outputs": []
    },
    {
      "cell_type": "code",
      "source": [
        "print(association_results)"
      ],
      "metadata": {
        "colab": {
          "base_uri": "https://localhost:8080/"
        },
        "id": "O-gzcAYbR7nr",
        "outputId": "0df322c5-40bb-4c97-9e86-592b339bbacc"
      },
      "execution_count": 15,
      "outputs": [
        {
          "output_type": "stream",
          "name": "stdout",
          "text": [
            "[RelationRecord(items=frozenset({'Dizziness', 'Cold'}), support=0.5, ordered_statistics=[OrderedStatistic(items_base=frozenset({'Cold'}), items_add=frozenset({'Dizziness'}), confidence=1.0, lift=2.0), OrderedStatistic(items_base=frozenset({'Dizziness'}), items_add=frozenset({'Cold'}), confidence=1.0, lift=2.0)]), RelationRecord(items=frozenset({'Pneumonia', 'Diarrhoea'}), support=0.25, ordered_statistics=[OrderedStatistic(items_base=frozenset({'Diarrhoea'}), items_add=frozenset({'Pneumonia'}), confidence=1.0, lift=2.0), OrderedStatistic(items_base=frozenset({'Pneumonia'}), items_add=frozenset({'Diarrhoea'}), confidence=0.5, lift=2.0)]), RelationRecord(items=frozenset({'Fever', 'Headache'}), support=0.25, ordered_statistics=[OrderedStatistic(items_base=frozenset({'Fever'}), items_add=frozenset({'Headache'}), confidence=0.5, lift=2.0), OrderedStatistic(items_base=frozenset({'Headache'}), items_add=frozenset({'Fever'}), confidence=1.0, lift=2.0)]), RelationRecord(items=frozenset({'Fever', 'Dizziness', 'Cold'}), support=0.25, ordered_statistics=[OrderedStatistic(items_base=frozenset({'Cold'}), items_add=frozenset({'Fever', 'Dizziness'}), confidence=0.5, lift=2.0), OrderedStatistic(items_base=frozenset({'Dizziness'}), items_add=frozenset({'Fever', 'Cold'}), confidence=0.5, lift=2.0), OrderedStatistic(items_base=frozenset({'Fever', 'Cold'}), items_add=frozenset({'Dizziness'}), confidence=1.0, lift=2.0), OrderedStatistic(items_base=frozenset({'Fever', 'Dizziness'}), items_add=frozenset({'Cold'}), confidence=1.0, lift=2.0)]), RelationRecord(items=frozenset({'Dizziness', 'Cold', 'Pneumonia'}), support=0.25, ordered_statistics=[OrderedStatistic(items_base=frozenset({'Cold'}), items_add=frozenset({'Dizziness', 'Pneumonia'}), confidence=0.5, lift=2.0), OrderedStatistic(items_base=frozenset({'Dizziness'}), items_add=frozenset({'Pneumonia', 'Cold'}), confidence=0.5, lift=2.0), OrderedStatistic(items_base=frozenset({'Pneumonia', 'Cold'}), items_add=frozenset({'Dizziness'}), confidence=1.0, lift=2.0), OrderedStatistic(items_base=frozenset({'Dizziness', 'Pneumonia'}), items_add=frozenset({'Cold'}), confidence=1.0, lift=2.0)]), RelationRecord(items=frozenset({'Dizziness', 'Cold', 'nan'}), support=0.5, ordered_statistics=[OrderedStatistic(items_base=frozenset({'Cold'}), items_add=frozenset({'Dizziness', 'nan'}), confidence=1.0, lift=2.0), OrderedStatistic(items_base=frozenset({'Dizziness'}), items_add=frozenset({'Cold', 'nan'}), confidence=1.0, lift=2.0), OrderedStatistic(items_base=frozenset({'Cold', 'nan'}), items_add=frozenset({'Dizziness'}), confidence=1.0, lift=2.0), OrderedStatistic(items_base=frozenset({'Dizziness', 'nan'}), items_add=frozenset({'Cold'}), confidence=1.0, lift=2.0)]), RelationRecord(items=frozenset({'Pneumonia', 'Diarrhoea', 'nan'}), support=0.25, ordered_statistics=[OrderedStatistic(items_base=frozenset({'Diarrhoea'}), items_add=frozenset({'Pneumonia', 'nan'}), confidence=1.0, lift=2.0), OrderedStatistic(items_base=frozenset({'Pneumonia'}), items_add=frozenset({'Diarrhoea', 'nan'}), confidence=0.5, lift=2.0), OrderedStatistic(items_base=frozenset({'Diarrhoea', 'nan'}), items_add=frozenset({'Pneumonia'}), confidence=1.0, lift=2.0), OrderedStatistic(items_base=frozenset({'Pneumonia', 'nan'}), items_add=frozenset({'Diarrhoea'}), confidence=0.5, lift=2.0)]), RelationRecord(items=frozenset({'Fever', 'nan', 'Headache'}), support=0.25, ordered_statistics=[OrderedStatistic(items_base=frozenset({'Fever'}), items_add=frozenset({'Headache', 'nan'}), confidence=0.5, lift=2.0), OrderedStatistic(items_base=frozenset({'Headache'}), items_add=frozenset({'Fever', 'nan'}), confidence=1.0, lift=2.0), OrderedStatistic(items_base=frozenset({'Fever', 'nan'}), items_add=frozenset({'Headache'}), confidence=0.5, lift=2.0), OrderedStatistic(items_base=frozenset({'Headache', 'nan'}), items_add=frozenset({'Fever'}), confidence=1.0, lift=2.0)]), RelationRecord(items=frozenset({'Fever', 'Dizziness', 'Cold', 'nan'}), support=0.25, ordered_statistics=[OrderedStatistic(items_base=frozenset({'Cold'}), items_add=frozenset({'Fever', 'Dizziness', 'nan'}), confidence=0.5, lift=2.0), OrderedStatistic(items_base=frozenset({'Dizziness'}), items_add=frozenset({'Fever', 'Cold', 'nan'}), confidence=0.5, lift=2.0), OrderedStatistic(items_base=frozenset({'Fever', 'Cold'}), items_add=frozenset({'Dizziness', 'nan'}), confidence=1.0, lift=2.0), OrderedStatistic(items_base=frozenset({'Cold', 'nan'}), items_add=frozenset({'Fever', 'Dizziness'}), confidence=0.5, lift=2.0), OrderedStatistic(items_base=frozenset({'Fever', 'Dizziness'}), items_add=frozenset({'Cold', 'nan'}), confidence=1.0, lift=2.0), OrderedStatistic(items_base=frozenset({'Dizziness', 'nan'}), items_add=frozenset({'Fever', 'Cold'}), confidence=0.5, lift=2.0), OrderedStatistic(items_base=frozenset({'Fever', 'Cold', 'nan'}), items_add=frozenset({'Dizziness'}), confidence=1.0, lift=2.0), OrderedStatistic(items_base=frozenset({'Fever', 'Dizziness', 'nan'}), items_add=frozenset({'Cold'}), confidence=1.0, lift=2.0)]), RelationRecord(items=frozenset({'Dizziness', 'nan', 'Cold', 'Pneumonia'}), support=0.25, ordered_statistics=[OrderedStatistic(items_base=frozenset({'Cold'}), items_add=frozenset({'Dizziness', 'Pneumonia', 'nan'}), confidence=0.5, lift=2.0), OrderedStatistic(items_base=frozenset({'Dizziness'}), items_add=frozenset({'Pneumonia', 'Cold', 'nan'}), confidence=0.5, lift=2.0), OrderedStatistic(items_base=frozenset({'Pneumonia', 'Cold'}), items_add=frozenset({'Dizziness', 'nan'}), confidence=1.0, lift=2.0), OrderedStatistic(items_base=frozenset({'Cold', 'nan'}), items_add=frozenset({'Dizziness', 'Pneumonia'}), confidence=0.5, lift=2.0), OrderedStatistic(items_base=frozenset({'Dizziness', 'Pneumonia'}), items_add=frozenset({'Cold', 'nan'}), confidence=1.0, lift=2.0), OrderedStatistic(items_base=frozenset({'Dizziness', 'nan'}), items_add=frozenset({'Pneumonia', 'Cold'}), confidence=0.5, lift=2.0), OrderedStatistic(items_base=frozenset({'Pneumonia', 'Cold', 'nan'}), items_add=frozenset({'Dizziness'}), confidence=1.0, lift=2.0), OrderedStatistic(items_base=frozenset({'Dizziness', 'nan', 'Pneumonia'}), items_add=frozenset({'Cold'}), confidence=1.0, lift=2.0)])]\n"
          ]
        }
      ]
    },
    {
      "cell_type": "code",
      "source": [
        ""
      ],
      "metadata": {
        "id": "SrScJeOHR_Qc"
      },
      "execution_count": null,
      "outputs": []
    }
  ]
}